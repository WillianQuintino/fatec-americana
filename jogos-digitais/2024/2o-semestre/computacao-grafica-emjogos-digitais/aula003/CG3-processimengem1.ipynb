{
  "nbformat": 4,
  "nbformat_minor": 0,
  "metadata": {
    "colab": {
      "provenance": [],
      "authorship_tag": "ABX9TyOIRr5aIH8Latjo+AwPyUSC",
      "include_colab_link": true
    },
    "kernelspec": {
      "name": "python3",
      "display_name": "Python 3"
    },
    "language_info": {
      "name": "python"
    }
  },
  "cells": [
    {
      "cell_type": "markdown",
      "metadata": {
        "id": "view-in-github",
        "colab_type": "text"
      },
      "source": [
        "<a href=\"https://colab.research.google.com/github/WillianQuintino/fatec-americana/blob/main/jogos-digitais/2024/2o-semestre/computacao-grafica-emjogos-digitais/aula003/CG3-processimengem1.ipynb\" target=\"_parent\"><img src=\"https://colab.research.google.com/assets/colab-badge.svg\" alt=\"Open In Colab\"/></a>"
      ]
    },
    {
      "cell_type": "code",
      "execution_count": null,
      "metadata": {
        "id": "T1lgr1v0hIQx"
      },
      "outputs": [],
      "source": [
        "#importando bibliotecas e autorizando o imshow\n",
        "import numpy as np\n",
        "import cv2\n",
        "from google.colab.patches\n",
        "\n",
        "#importando uma imagem do disco para o colab\n",
        "from google.colabe import files\n",
        "uploaded ="
      ]
    }
  ]
}